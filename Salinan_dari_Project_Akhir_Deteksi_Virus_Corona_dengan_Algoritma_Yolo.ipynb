{
  "nbformat": 4,
  "nbformat_minor": 0,
  "metadata": {
    "colab": {
      "private_outputs": true,
      "provenance": [],
      "collapsed_sections": []
    },
    "kernelspec": {
      "name": "python3",
      "display_name": "Python 3"
    },
    "language_info": {
      "name": "python"
    },
    "accelerator": "GPU"
  },
  "cells": [
    {
      "cell_type": "markdown",
      "source": [
        "# Project Akhir Deep Learning Deteksi Masker dengan Algoritma Yolo\n",
        "pada project kali ini akan dibuat sebuah penerapan deep learning untuk deteksi virus covid 19  dengan bantuan Algoritma Yolo \n",
        "\n",
        "> Alan Firdaus\n",
        "\n",
        "> Diah Islamiati\n",
        "\n",
        "> Audi mayori\n",
        "\n",
        "> Hartarti\n",
        "\n",
        "> Rizky Aprilia\n",
        "\n",
        "\n",
        "\n",
        "\n",
        "\n",
        "\n",
        "\n",
        "\n",
        "\n"
      ],
      "metadata": {
        "id": "iG2BM79OmPQy"
      }
    },
    {
      "cell_type": "markdown",
      "source": [
        "# Tahap 1. Mount Google Drive  \n",
        "pada tahap pertama hubungkan google drive ke google colab agar notebook pada google colab terhubung dengan repository google drive"
      ],
      "metadata": {
        "id": "z-Dgy-nyneKx"
      }
    },
    {
      "cell_type": "code",
      "execution_count": null,
      "metadata": {
        "id": "PILNSkbOltFT"
      },
      "outputs": [],
      "source": [
        "#Hubungkan Google Colab ke Google Drive\n",
        "%cd ..\n",
        "from google.colab import drive \n",
        "drive.mount('content/gdrive')"
      ]
    },
    {
      "cell_type": "markdown",
      "source": [
        "## Tahap 1.1 Masuk ke Repositoty Google Drive \n",
        "Jika notebook sudah terhubung dengan Google Drive langkah selanjutnya masuk ke directory Google drive"
      ],
      "metadata": {
        "id": "qKWmUDiTozA4"
      }
    },
    {
      "cell_type": "code",
      "source": [
        "#masuk ke repository drive \n",
        "import os \n",
        "DARKNETH_PATH = \"/content/gdrive/MyDrive/Yolov4\"\n",
        "os.chdir(DARKNETH_PATH)"
      ],
      "metadata": {
        "id": "EX39zeP0pf6D"
      },
      "execution_count": null,
      "outputs": []
    },
    {
      "cell_type": "markdown",
      "source": [
        "# Tahap 2. inisialiasi GPU \n",
        "pada tahap kedua ini dilakukan inisialisasi GPU untuk proses Training model dan proses deteksi pada model "
      ],
      "metadata": {
        "id": "9ZY5avI2qMLs"
      }
    },
    {
      "cell_type": "code",
      "source": [
        "# Cek Versi dari CUDA yang akan digunakan\n",
        "!/usr/local/cuda/bin/nvcc --version"
      ],
      "metadata": {
        "id": "TXeiDeGSqzf-"
      },
      "execution_count": null,
      "outputs": []
    },
    {
      "cell_type": "code",
      "source": [
        "# Cek Versi dari CuDNN \n",
        "!cat /usr/include/cudnn.h | grep CUDNN_MAJOR -A 2"
      ],
      "metadata": {
        "id": "Z7Mch6xKrpBi"
      },
      "execution_count": null,
      "outputs": []
    },
    {
      "cell_type": "markdown",
      "source": [
        "## Tahap 2.1 Clone darknet repository \n",
        "pada tahap ini dilakukan proses clone file darknet yang akan digunakan untuk proses training dan deteksi. apabila proses ini sudah pernah dilakukan lewatkan proses ini "
      ],
      "metadata": {
        "id": "bBY0fzFusVXK"
      }
    },
    {
      "cell_type": "code",
      "source": [
        "#clone repository darknet \n",
        "!git clone https://github.com/AlexeyAB/darknet"
      ],
      "metadata": {
        "id": "73STzUHas_BP"
      },
      "execution_count": null,
      "outputs": []
    },
    {
      "cell_type": "markdown",
      "source": [
        "## Tahap 2.2 Memberikan Hak Akses pada Google Drive\n",
        "pada tahap 2.2 ini memberikan hak akses pada directory google drive agar file yang terdapat pada google dapat diakses"
      ],
      "metadata": {
        "id": "un-i2rf50HUm"
      }
    },
    {
      "cell_type": "code",
      "source": [
        "# Pemberian Hak Akses\n",
        "!chmod a+x darknet"
      ],
      "metadata": {
        "id": "Tr-1rGH70gRo"
      },
      "execution_count": null,
      "outputs": []
    },
    {
      "cell_type": "markdown",
      "source": [
        "# Tahap 3. Aktifkan Library Open CV dan GPU \n",
        "pada proses ketiga ini melakukan konfigurasi pada file makefile untuk mengatifkan Library OpenCV dan GPU "
      ],
      "metadata": {
        "id": "b5L7ARIRtQss"
      }
    },
    {
      "cell_type": "code",
      "source": [
        "#Edit Makefile to enable GPU and OpenCV\n",
        "%cd darknet/\n",
        "!sed -i 's/OPENCV=0/OPENCV=1/' Makefile\n",
        "!sed -i 's/GPU=0/GPU=1/' Makefile\n",
        "!sed -i 's/CUDNN=0/CUDNN=1/' Makefile\n",
        "!sed -i 's/CUDNN_HALF=0/CUDNN_HALF=1/' Makefile"
      ],
      "metadata": {
        "id": "GiOjq8pot18U"
      },
      "execution_count": null,
      "outputs": []
    },
    {
      "cell_type": "code",
      "source": [
        "# Build darknet \n",
        "!make"
      ],
      "metadata": {
        "id": "XhGbUXu1ujpv"
      },
      "execution_count": null,
      "outputs": []
    },
    {
      "cell_type": "markdown",
      "source": [
        "## Tahap 3.1 Download Pre-trained Weights\n",
        "pada tahap ini dilakukan download file hasil training datasheet sebelum nya yang akan dipakai untuk proses deteksi dan klasifikasi"
      ],
      "metadata": {
        "id": "1kLIcB9euvWg"
      }
    },
    {
      "cell_type": "code",
      "source": [
        "#Download pre-trained weights\n",
        "!wget https://github.com/AlexeyAB/darknet/releases/download/darknet_yolo_v3_optimal/yolov4.weights"
      ],
      "metadata": {
        "id": "rfn3InSGvM6a"
      },
      "execution_count": null,
      "outputs": []
    },
    {
      "cell_type": "markdown",
      "source": [
        "## Tahap 3.2 Download Pre-trained for the convolutional layers \n",
        "pada tahap ini dilakukan download pre-trained convulatinal layers untuk proses training pada custom datasheet yang akan di training "
      ],
      "metadata": {
        "id": "TjznRTTJvZqu"
      }
    },
    {
      "cell_type": "code",
      "source": [
        "#Download pre-trained convolutional layers \n",
        "!wget https://github.com/AlexeyAB/darknet/releases/download/darknet_yolo_v3_optimal/yolov4.conv.137"
      ],
      "metadata": {
        "id": "qILjYUstwZv-"
      },
      "execution_count": null,
      "outputs": []
    },
    {
      "cell_type": "markdown",
      "source": [
        "# Tahap 4. Helper Function \n",
        "pada tahap keempat ini dilakukan run program python untuk menampilkan gambar hasil prediksi dengan library open cv serta pada helper function ii akan dibuat function donwload untuk proses penyimpanan file foto hasil training "
      ],
      "metadata": {
        "id": "7Rd6C3nPwoQM"
      }
    },
    {
      "cell_type": "code",
      "source": [
        "#Function utnuk menampilkan citra foto \n",
        "def imShow(path):\n",
        "  import cv2 #library untuk menampilkan citra \n",
        "  import matplotlib.pyplot as plt # library untuk visualisasi \n",
        "  %matplotlib inline \n",
        "  \n",
        "  image = cv2.imread(path) #menampilkan Lokasi gambar citra\n",
        "  height, width = image.shape[:2]\n",
        "  resized_image = cv2.resize(image,(3*width, 3*height),\n",
        "                             interpolation =  cv2.INTER_CUBIC)\n",
        "  \n",
        "  #Visualisasi \n",
        "  fig = plt.gcf() \n",
        "  fig.set_size_inches(18,10) #ubah ukuran citra menjadi satuan inci \n",
        "  plt.axis(\"off\") \n",
        "  plt.imshow(cv2.cvtColor(resized_image, \n",
        "                          cv2.COLOR_BGR2RGB))\n",
        "  plt.show()\n",
        "\n",
        "  # use this to download a file  \n",
        "def download(path):\n",
        "  from google.colab import files\n",
        "  files.download(path)"
      ],
      "metadata": {
        "id": "l3YBhoPjxYGa"
      },
      "execution_count": null,
      "outputs": []
    },
    {
      "cell_type": "markdown",
      "source": [
        "## Tahap 4.1 Pre-Trained Run detection \n",
        "pada tahap ini dilakukan proses run detection pada file konfogurasi yang sudah di training sebelum nya "
      ],
      "metadata": {
        "id": "CSqQrP343mJa"
      }
    },
    {
      "cell_type": "markdown",
      "source": [
        "### Tahap 4.1.1 Deteksi object pada citra gambar \n",
        "pada tahap ini dilakukan deteksi pada citra gambar dari hasil pre-trained sebelumnya, hasil dari prediksi akan disimpan pada direktori google drive"
      ],
      "metadata": {
        "id": "bpePbqV04QlP"
      }
    },
    {
      "cell_type": "code",
      "source": [
        "#Deteksi object pada citra gambar \n",
        "#!./darknet detector test data/obj.data cfg/yolov4-obj.cfg backup/yolov4-obj_last.weights -thresh 0.25 data/sperm.jpg -dont_show\n",
        "!./darknet detector test cfg/coco.data cfg/yolov4.cfg yolov4.weights -thresh 0.25 data/dog.jpg -dont_show\n",
        "#!./darknet detector test cfg/coco.data cfg/yolov4.cfg yolov4.weights -thresh 0.25 data/diah.jpeg -dont_show"
      ],
      "metadata": {
        "id": "KLwU2qqO37YE"
      },
      "execution_count": null,
      "outputs": []
    },
    {
      "cell_type": "code",
      "source": [
        "#Tampilkan citra hasil prediksi \n",
        "imShow(\"predictions.jpg\")"
      ],
      "metadata": {
        "id": "8vQCTM3T4-u8"
      },
      "execution_count": null,
      "outputs": []
    },
    {
      "cell_type": "code",
      "source": [
        "imShow('chart.png')"
      ],
      "metadata": {
        "id": "LbOYdvE_IAn-"
      },
      "execution_count": null,
      "outputs": []
    },
    {
      "cell_type": "code",
      "source": [
        "#Download citra hasil prediksi \n",
        "download('predictions.jpg')"
      ],
      "metadata": {
        "id": "fEK0-vF65DRg"
      },
      "execution_count": null,
      "outputs": []
    },
    {
      "cell_type": "markdown",
      "source": [
        "### Tahap 4.1.2 Deteksi Object pada citra video\n"
      ],
      "metadata": {
        "id": "a9ZSk02u4kc3"
      }
    },
    {
      "cell_type": "code",
      "source": [
        "#Deteksi object pada citra video \n",
        "!./darknet detector demo data/obj.data cfg/yolov4-obj.cfg backup/yolov4-obj_last.weights -thresh 0.25 data/sperm.mp4 -out_filename result.mp4 -dont_show"
      ],
      "metadata": {
        "id": "_ll6mOyi41xH"
      },
      "execution_count": null,
      "outputs": []
    },
    {
      "cell_type": "markdown",
      "source": [
        "# Tahap 5. Custom Datasheet \n",
        "pada tahap kelima ini mulai dilakukan proses extract datasheet, kemudian konfigurasi file untuk label dan proses training dan testing "
      ],
      "metadata": {
        "id": "nSuQkNaIzcev"
      }
    },
    {
      "cell_type": "markdown",
      "source": [
        "## Tahap 5.1 Custom Datasheet untuk Citra Deteksi Virus Covid 19 \n",
        "pada tahap ini akan dilakukan custom dataset untuk deteksi object citra rontgen paru -paru dari virus covid 19"
      ],
      "metadata": {
        "id": "jZdkEGC-KA7l"
      }
    },
    {
      "cell_type": "code",
      "source": [
        "#Extract file \n",
        "!unzip data/dataset.zip -d ./data"
      ],
      "metadata": {
        "id": "IVhs17jIKQC8"
      },
      "execution_count": null,
      "outputs": []
    },
    {
      "cell_type": "code",
      "source": [
        "!./darknet detector train data/obj_covid.data cfg/yolov4-covid.cfg yolov4.conv.137 -dont_show"
      ],
      "metadata": {
        "id": "aCJi0wzm_I5m"
      },
      "execution_count": null,
      "outputs": []
    },
    {
      "cell_type": "code",
      "source": [
        "!./darknet detector train data/obj_covid.data cfg/yolov4-covid.cfg /content/gdrive/MyDrive/Yolov4/darknet/backup/yolov4-covid_1200.weights -dont_show -chart chart.png "
      ],
      "metadata": {
        "id": "Ak8QSGqEe_ck"
      },
      "execution_count": null,
      "outputs": []
    },
    {
      "cell_type": "code",
      "source": [
        "imShow('chart.png')"
      ],
      "metadata": {
        "id": "woPwwk9XffX7"
      },
      "execution_count": null,
      "outputs": []
    },
    {
      "cell_type": "markdown",
      "source": [
        "\n",
        "\n",
        "```\n",
        "function KeepClicking(){\n",
        "   console.log(\"Clicking\");\n",
        "   document.querySelector(\"colab-toolbar-button#connect\").click()\n",
        "}setInterval(KeepClicking,60000)\n",
        "```\n",
        "\n"
      ],
      "metadata": {
        "id": "jP8BoJScfQgX"
      }
    },
    {
      "cell_type": "markdown",
      "source": [
        "## Tahap 5.3 Custom Datasheet untuk citra Deteksi Masker\n",
        "pada tahap ini akan dilakukan custom datasheet untuk deteksi masker "
      ],
      "metadata": {
        "id": "snLQujLBLR9i"
      }
    },
    {
      "cell_type": "markdown",
      "source": [
        "### Helper Function \n",
        "Fungsi untuk visualisasi dan untuk download hasil prediksi"
      ],
      "metadata": {
        "id": "E3cbYzpr9Zhf"
      }
    },
    {
      "cell_type": "code",
      "source": [
        "#Function utnuk menampilkan citra foto \n",
        "def imShow(path):\n",
        "  import cv2 #library untuk menampilkan citra \n",
        "  import matplotlib.pyplot as plt # library untuk visualisasi \n",
        "  %matplotlib inline \n",
        "  \n",
        "  image = cv2.imread(path) #menampilkan Lokasi gambar citra\n",
        "  height, width = image.shape[:2]\n",
        "  resized_image = cv2.resize(image,(3*width, 3*height),\n",
        "                             interpolation =  cv2.INTER_CUBIC)\n",
        "  \n",
        "  #Visualisasi \n",
        "  fig = plt.gcf() \n",
        "  fig.set_size_inches(18,10) #ubah ukuran citra menjadi satuan inci \n",
        "  plt.axis(\"off\") \n",
        "  plt.imshow(cv2.cvtColor(resized_image, \n",
        "                          cv2.COLOR_BGR2RGB))\n",
        "  plt.show()\n",
        "\n",
        "  # use this to download a file  \n",
        "def download(path):\n",
        "  from google.colab import files\n",
        "  files.download(path)"
      ],
      "metadata": {
        "id": "v9KoxCmhjvRb"
      },
      "execution_count": null,
      "outputs": []
    },
    {
      "cell_type": "markdown",
      "source": [
        "### Proses Prediksi Citra Gambar \n",
        "pada proses ini dilakukan prediksi citra pada gambar "
      ],
      "metadata": {
        "id": "RGrVUulr9rYt"
      }
    },
    {
      "cell_type": "code",
      "source": [
        "#deteksi Citra Gambar Deteksi Masker \n",
        "!./darknet detector test data/obj_mask.data cfg/yolov4-mask.cfg backup/yolov4-mask_best.weights -thresh 0.25 data/Mosaic.jpeg -dont_show"
      ],
      "metadata": {
        "id": "TYbPzWK7mVg4"
      },
      "execution_count": null,
      "outputs": []
    },
    {
      "cell_type": "markdown",
      "source": [
        "### Tampilkan Hasil Prediksi\n",
        "pada tahap ini menampilkan hasil prediksi pada citra yang sudah ditraining"
      ],
      "metadata": {
        "id": "LTvwU_wK9-lx"
      }
    },
    {
      "cell_type": "code",
      "source": [
        "# Hasil Prediksi\n",
        "imShow(\"predictions.jpg\")"
      ],
      "metadata": {
        "id": "KJREPDrRmaSK"
      },
      "execution_count": null,
      "outputs": []
    },
    {
      "cell_type": "markdown",
      "source": [
        "### Download hasil prediksi\n",
        "pada bagian ini mendownload hasil citra yang sudah diprediksi"
      ],
      "metadata": {
        "id": "AXsAlLkw-JPT"
      }
    },
    {
      "cell_type": "code",
      "source": [
        "#Download citra hasil prediksi \n",
        "download('predictions.jpg')"
      ],
      "metadata": {
        "id": "zVdvFlz9mN7O"
      },
      "execution_count": null,
      "outputs": []
    },
    {
      "cell_type": "markdown",
      "source": [
        "### Deteksi Video \n",
        "pada tahap ini dilakukan proses deteksi dengan video hasil prediksi akan disimpan di google drive"
      ],
      "metadata": {
        "id": "5kqHQo0a-WxM"
      }
    },
    {
      "cell_type": "code",
      "source": [
        "#deteksi vidio\n",
        "#!./darknet detector demo data/obj.data cfg/yolov4-obj.cfg backup/yolov4-obj_last.weights -thresh 0.25 data/sperm.mp4 -out_filename result.mp4 -dont_show\n",
        "!./darknet detector demo data/obj_mask.data cfg/yolov4-mask.cfg backup/yolov4-mask_best.weights -thresh 0.25 data/Tester.mp4 -out_filename Tester.mp4 -dont_show"
      ],
      "metadata": {
        "id": "mQUajjFYosJT"
      },
      "execution_count": null,
      "outputs": []
    }
  ]
}